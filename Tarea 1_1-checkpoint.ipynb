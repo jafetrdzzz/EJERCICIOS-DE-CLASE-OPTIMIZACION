{
 "cells": [
  {
   "cell_type": "markdown",
   "metadata": {
    "colab_type": "text",
    "id": "PedPDtG9ESjJ"
   },
   "source": [
    "# Tarea. Optimización de funciones escalares"
   ]
  },
  {
   "cell_type": "markdown",
   "metadata": {
    "colab_type": "text",
    "id": "I1rmrSnYElMl"
   },
   "source": [
    "1. Encuntre el punto crítico de cada $f(x)$, grafique y diga si éste es máximo o mínimo:"
   ]
  },
  {
   "cell_type": "markdown",
   "metadata": {
    "colab_type": "text",
    "id": "rZsQPEsnE-b9"
   },
   "source": [
    "1.1 $f(x)=x+\\frac{1}{x^2}$"
   ]
  },
  {
   "cell_type": "code",
   "execution_count": 204,
   "metadata": {
    "colab": {},
    "colab_type": "code",
    "id": "BnSeOKFZEIpZ"
   },
   "outputs": [],
   "source": [
    "import numpy as np\n",
    "import sympy as sym\n",
    "import matplotlib.pyplot as plt"
   ]
  },
  {
   "cell_type": "code",
   "execution_count": 205,
   "metadata": {},
   "outputs": [
    {
     "data": {
      "text/latex": [
       "$\\displaystyle x + \\frac{1}{x^{2}}$"
      ],
      "text/plain": [
       "x + x**(-2)"
      ]
     },
     "execution_count": 205,
     "metadata": {},
     "output_type": "execute_result"
    }
   ],
   "source": [
    "sym.var('x')\n",
    "def f(x):\n",
    "    return x+(1/(x**2))\n",
    "f(x)"
   ]
  },
  {
   "cell_type": "code",
   "execution_count": 6,
   "metadata": {},
   "outputs": [
    {
     "data": {
      "text/latex": [
       "$\\displaystyle 1 - \\frac{2}{x^{3}}$"
      ],
      "text/plain": [
       "1 - 2/x**3"
      ]
     },
     "execution_count": 6,
     "metadata": {},
     "output_type": "execute_result"
    }
   ],
   "source": [
    "df=sym.diff(f(x),x)\n",
    "df"
   ]
  },
  {
   "cell_type": "code",
   "execution_count": 24,
   "metadata": {},
   "outputs": [
    {
     "data": {
      "text/plain": [
       "[2**(1/3),\n",
       " -2**(1/3)/2 - 2**(1/3)*sqrt(3)*I/2,\n",
       " -2**(1/3)/2 + 2**(1/3)*sqrt(3)*I/2]"
      ]
     },
     "execution_count": 24,
     "metadata": {},
     "output_type": "execute_result"
    }
   ],
   "source": [
    "#PARA RESOLVER LA DERIVADA \n",
    "c=sym.solve(df,x)\n",
    "c"
   ]
  },
  {
   "cell_type": "markdown",
   "metadata": {},
   "source": [
    "Tomaremos el **valor real** de la solución y omitimos los imaginarios"
   ]
  },
  {
   "cell_type": "code",
   "execution_count": 25,
   "metadata": {},
   "outputs": [
    {
     "data": {
      "text/latex": [
       "$\\displaystyle \\sqrt[3]{2}$"
      ],
      "text/plain": [
       "2**(1/3)"
      ]
     },
     "execution_count": 25,
     "metadata": {},
     "output_type": "execute_result"
    }
   ],
   "source": [
    "c[0]"
   ]
  },
  {
   "cell_type": "code",
   "execution_count": 26,
   "metadata": {},
   "outputs": [
    {
     "data": {
      "image/png": "[encoded data removed]",
      "text/plain": [
       "<Figure size 432x288 with 1 Axes>"
      ]
     },
     "metadata": {
      "needs_background": "light"
     },
     "output_type": "display_data"
    }
   ],
   "source": [
    "xnum=np.linspace(-3,5,100)\n",
    "ynum=f(xnum)\n",
    "plt.plot(xnum,ynum)\n",
    "plt.plot(c[0],f(c[0]),'*r',ms=15)\n",
    "plt.grid()"
   ]
  },
  {
   "cell_type": "markdown",
   "metadata": {},
   "source": [
    "El punto crítico de la función $f(x)=x+\\frac{1}{x^{2}}$ es $2^\\frac{1}{3}$\n",
    "como un valor mínimo relativo "
   ]
  },
  {
   "cell_type": "markdown",
   "metadata": {},
   "source": []
  },
  {
   "cell_type": "code",
   "execution_count": null,
   "metadata": {},
   "outputs": [],
   "source": []
  },
  {
   "cell_type": "markdown",
   "metadata": {
    "colab_type": "text",
    "id": "WSf2O-FsGYtu"
   },
   "source": [
    "1.2 $f(x)=\\frac{15x}{2}\\sqrt{\\frac{x}{x-30}}$"
   ]
  },
  {
   "cell_type": "code",
   "execution_count": 29,
   "metadata": {},
   "outputs": [
    {
     "data": {
      "text/latex": [
       "$\\displaystyle \\frac{15 x \\left(\\frac{x}{x - 30}\\right)^{0.5}}{2}$"
      ],
      "text/plain": [
       "15*x*(x/(x - 30))**0.5/2"
      ]
     },
     "execution_count": 29,
     "metadata": {},
     "output_type": "execute_result"
    }
   ],
   "source": [
    "def f(x):\n",
    "    return (15*x/2)*(x/(x-30))**(1/2)\n",
    "f(x)"
   ]
  },
  {
   "cell_type": "code",
   "execution_count": 56,
   "metadata": {},
   "outputs": [
    {
     "data": {
      "text/latex": [
       "$\\displaystyle \\frac{15 \\left(\\frac{x}{x - 30}\\right)^{0.5} \\left(x - 30\\right) \\left(- \\frac{0.5 x}{\\left(x - 30\\right)^{2}} + \\frac{0.5}{x - 30}\\right)}{2} + \\frac{15 \\left(\\frac{x}{x - 30}\\right)^{0.5}}{2}$"
      ],
      "text/plain": [
       "15*(x/(x - 30))**0.5*(x - 30)*(-0.5*x/(x - 30)**2 + 0.5/(x - 30))/2 + 15*(x/(x - 30))**0.5/2"
      ]
     },
     "execution_count": 56,
     "metadata": {},
     "output_type": "execute_result"
    }
   ],
   "source": [
    "df=sym.diff(f(x),x)\n",
    "df"
   ]
  },
  {
   "cell_type": "code",
   "execution_count": 60,
   "metadata": {},
   "outputs": [
    {
     "data": {
      "text/plain": [
       "[0.0, 45.0000000000000]"
      ]
     },
     "execution_count": 60,
     "metadata": {},
     "output_type": "execute_result"
    }
   ],
   "source": [
    "c=sym.solve(df,x)\n",
    "c"
   ]
  },
  {
   "cell_type": "code",
   "execution_count": 61,
   "metadata": {},
   "outputs": [
    {
     "data": {
      "text/latex": [
       "$\\displaystyle 45.0$"
      ],
      "text/plain": [
       "45.0000000000000"
      ]
     },
     "execution_count": 61,
     "metadata": {},
     "output_type": "execute_result"
    }
   ],
   "source": [
    "c[1]"
   ]
  },
  {
   "cell_type": "code",
   "execution_count": 74,
   "metadata": {},
   "outputs": [
    {
     "data": {
      "text/latex": [
       "$\\displaystyle 584.567147554496$"
      ],
      "text/plain": [
       "584.567147554496"
      ]
     },
     "execution_count": 74,
     "metadata": {},
     "output_type": "execute_result"
    }
   ],
   "source": [
    "f(c[1])"
   ]
  },
  {
   "cell_type": "code",
   "execution_count": 75,
   "metadata": {},
   "outputs": [
    {
     "name": "stderr",
     "output_type": "stream",
     "text": [
      "C:\\Users\\ASUS\\AppData\\Local\\Temp\\ipykernel_18644\\2343052731.py:2: RuntimeWarning: invalid value encountered in sqrt\n",
      "  return (15*x/2)*(x/(x-30))**(1/2)\n"
     ]
    },
    {
     "data": {
      "image/png": "[encoded data removed]",
      "text/plain": [
       "<Figure size 432x288 with 1 Axes>"
      ]
     },
     "metadata": {
      "needs_background": "light"
     },
     "output_type": "display_data"
    }
   ],
   "source": [
    "xnum=np.linspace(5,600,500) #Regresa 500 valores linealmente espaciados entre 50 y 10000\n",
    "ynum=f(xnum)      #Evaluamos la función 'f' en los valores de xnum\n",
    "plt.plot(xnum,ynum)\n",
    "plt.plot(c[1],f(c[1]),'*r',ms=10) \n",
    "plt.grid()  "
   ]
  },
  {
   "cell_type": "markdown",
   "metadata": {},
   "source": [
    "El punto crítico de la función $f(x)=\\frac{15x}{2}\\sqrt\\frac{x}{x-30}$ es $584.567$\n",
    "como un valor mínimo absoluto"
   ]
  },
  {
   "cell_type": "markdown",
   "metadata": {
    "colab_type": "text",
    "id": "7A2O6L5gGx-q"
   },
   "source": [
    "1.3 $f(x)=100(1+\\cos(x)\\sin(x))$, para $x\\in[0.\\frac{\\pi}{2}]$"
   ]
  },
  {
   "cell_type": "code",
   "execution_count": 233,
   "metadata": {},
   "outputs": [],
   "source": [
    "import numpy as np\n",
    "from sympy import Derivative, diff, simplify"
   ]
  },
  {
   "cell_type": "code",
   "execution_count": 234,
   "metadata": {},
   "outputs": [
    {
     "data": {
      "text/latex": [
       "$\\displaystyle 100 \\sin{\\left(x \\right)} \\cos{\\left(x \\right)} + 100$"
      ],
      "text/plain": [
       "100*sin(x)*cos(x) + 100"
      ]
     },
     "execution_count": 234,
     "metadata": {},
     "output_type": "execute_result"
    }
   ],
   "source": [
    "def f(x):\n",
    "    return 100*(1+cos(x)*sin(x))\n",
    "f(x)\n"
   ]
  },
  {
   "cell_type": "code",
   "execution_count": 235,
   "metadata": {},
   "outputs": [
    {
     "data": {
      "text/latex": [
       "$\\displaystyle - 100 \\sin^{2}{\\left(x \\right)} + 100 \\cos^{2}{\\left(x \\right)}$"
      ],
      "text/plain": [
       "-100*sin(x)**2 + 100*cos(x)**2"
      ]
     },
     "execution_count": 235,
     "metadata": {},
     "output_type": "execute_result"
    }
   ],
   "source": [
    "df=sym.diff(f(x),x)\n",
    "df"
   ]
  },
  {
   "cell_type": "code",
   "execution_count": 236,
   "metadata": {},
   "outputs": [
    {
     "data": {
      "text/plain": [
       "[-pi/4, pi/4]"
      ]
     },
     "execution_count": 236,
     "metadata": {},
     "output_type": "execute_result"
    }
   ],
   "source": [
    "c=sym.solve(df,x)\n",
    "c"
   ]
  },
  {
   "cell_type": "markdown",
   "metadata": {},
   "source": [
    "Tomamos el valor positivo de radianes $\\frac{\\pi}{4}$ ya que está dentro\n",
    "del rango de $x[0,\\frac{\\pi}{4}]$"
   ]
  },
  {
   "cell_type": "code",
   "execution_count": 237,
   "metadata": {},
   "outputs": [
    {
     "data": {
      "text/latex": [
       "$\\displaystyle \\frac{\\pi}{4}$"
      ],
      "text/plain": [
       "pi/4"
      ]
     },
     "execution_count": 237,
     "metadata": {},
     "output_type": "execute_result"
    }
   ],
   "source": [
    "c[1]"
   ]
  },
  {
   "cell_type": "code",
   "execution_count": 238,
   "metadata": {},
   "outputs": [
    {
     "data": {
      "text/latex": [
       "$\\displaystyle 150$"
      ],
      "text/plain": [
       "150"
      ]
     },
     "execution_count": 238,
     "metadata": {},
     "output_type": "execute_result"
    }
   ],
   "source": [
    "f(c[-1])"
   ]
  },
  {
   "cell_type": "markdown",
   "metadata": {},
   "source": [
    "Al evaluar la función nos da 150, pero como es periódica, podemos establecer\n",
    "que x debe de tener $x=\\frac{\\pi}{4}+\\pi(n)$"
   ]
  },
  {
   "cell_type": "markdown",
   "metadata": {
    "colab_type": "text",
    "id": "mibUuJQGHSUO"
   },
   "source": [
    "2. Resuelva los siguientes problemas:"
   ]
  },
  {
   "cell_type": "markdown",
   "metadata": {
    "colab_type": "text",
    "id": "uxDIyBC6HYFx"
   },
   "source": [
    "2.1  Se desea hacer una caja con tapa cuyo volumen sea de 72 $cm^3$. Además, lo largo de la base debe ser el doble de lo ancho. ¿Cuáles deben ser las dimensiones de modo que la superficie de la caja sea mínima? y, ¿cuál la superficie mínima?\n"
   ]
  },
  {
   "cell_type": "markdown",
   "metadata": {
    "colab": {},
    "colab_type": "code",
    "id": "7Lvny-LWHXcx"
   },
   "source": [
    "Determinamos la $f(x)=2(xy+xz+yz)$"
   ]
  },
  {
   "cell_type": "markdown",
   "metadata": {},
   "source": [
    "como sabemos que la caja es en 3D, debemos de decir que $y=2x$"
   ]
  },
  {
   "cell_type": "markdown",
   "metadata": {},
   "source": [
    "El volumen de 72 $cm^3$ lo hacemos respecto a la igualaicón de $y=2x$ en \n",
    "una sola función del volumen, es decir, $xyz=x(2x)z=72$"
   ]
  },
  {
   "cell_type": "markdown",
   "metadata": {},
   "source": [
    "Despejamos a una sola variable para obtener una función de superficie \n",
    "mínima como $z=\\frac{72}{2x^2}$"
   ]
  },
  {
   "cell_type": "markdown",
   "metadata": {},
   "source": [
    "Obtenemos una función general de $S(x)=4(x^2)+\\frac{54}{x}$ y derivamos:"
   ]
  },
  {
   "cell_type": "code",
   "execution_count": 168,
   "metadata": {},
   "outputs": [
    {
     "data": {
      "text/latex": [
       "$\\displaystyle 4 x^{2} + \\frac{216}{x}$"
      ],
      "text/plain": [
       "4*x**2 + 216/x"
      ]
     },
     "execution_count": 168,
     "metadata": {},
     "output_type": "execute_result"
    }
   ],
   "source": [
    "def s(x):\n",
    "    return 4*(x**2+(54/x))\n",
    "s(x)"
   ]
  },
  {
   "cell_type": "code",
   "execution_count": 169,
   "metadata": {},
   "outputs": [
    {
     "data": {
      "text/latex": [
       "$\\displaystyle 8 x - \\frac{216}{x^{2}}$"
      ],
      "text/plain": [
       "8*x - 216/x**2"
      ]
     },
     "execution_count": 169,
     "metadata": {},
     "output_type": "execute_result"
    }
   ],
   "source": [
    "ds=sym.diff(s(x),x)\n",
    "ds"
   ]
  },
  {
   "cell_type": "code",
   "execution_count": 170,
   "metadata": {},
   "outputs": [
    {
     "data": {
      "text/plain": [
       "[3, -3/2 - 3*sqrt(3)*I/2, -3/2 + 3*sqrt(3)*I/2]"
      ]
     },
     "execution_count": 170,
     "metadata": {},
     "output_type": "execute_result"
    }
   ],
   "source": [
    "c=sym.solve(ds,x)\n",
    "c"
   ]
  },
  {
   "cell_type": "code",
   "execution_count": 171,
   "metadata": {},
   "outputs": [
    {
     "data": {
      "text/latex": [
       "$\\displaystyle 3$"
      ],
      "text/plain": [
       "3"
      ]
     },
     "execution_count": 171,
     "metadata": {},
     "output_type": "execute_result"
    }
   ],
   "source": [
    "c[0]"
   ]
  },
  {
   "cell_type": "markdown",
   "metadata": {},
   "source": [
    "Tomaremos el valor real positivo **3** y omitimos los negativos e imaginarios"
   ]
  },
  {
   "cell_type": "code",
   "execution_count": 177,
   "metadata": {},
   "outputs": [
    {
     "data": {
      "text/latex": [
       "$\\displaystyle 108$"
      ],
      "text/plain": [
       "108"
      ]
     },
     "execution_count": 177,
     "metadata": {},
     "output_type": "execute_result"
    }
   ],
   "source": [
    "s(c[0])"
   ]
  },
  {
   "cell_type": "markdown",
   "metadata": {},
   "source": [
    "Sustituimos el valor de $x=3$ en la igualación obtenida de $y=2x$ siendo \n",
    "$y=2(3)$ y también en $z=\\frac{72}{2x^2}$ que da $z=6$"
   ]
  },
  {
   "cell_type": "code",
   "execution_count": 178,
   "metadata": {},
   "outputs": [
    {
     "name": "stderr",
     "output_type": "stream",
     "text": [
      "C:\\Users\\ASUS\\AppData\\Local\\Temp\\ipykernel_18644\\2787136267.py:2: RuntimeWarning: divide by zero encountered in true_divide\n",
      "  return 4*(x**2+(54/x))\n"
     ]
    },
    {
     "data": {
      "image/png": "[encoded data removed]",
      "text/plain": [
       "<Figure size 432x288 with 1 Axes>"
      ]
     },
     "metadata": {
      "needs_background": "light"
     },
     "output_type": "display_data"
    }
   ],
   "source": [
    "xnum=np.linspace(0,5,50) \n",
    "ynum=s(xnum)      #Evaluamos la función 'f' en los valores de xnum\n",
    "plt.plot(xnum,ynum)\n",
    "plt.plot(c[0],s(c[0]),'*r',ms=15) \n",
    "plt.grid()"
   ]
  },
  {
   "cell_type": "markdown",
   "metadata": {},
   "source": [
    "Para la superficie mínima de 108 cm^2, las dimensiones deben de ser \n",
    "$3 cm$ de largo, $6 cm$ de ancho y $4 cm$ de alto"
   ]
  },
  {
   "cell_type": "markdown",
   "metadata": {
    "colab_type": "text",
    "id": "AhKGcooYopud"
   },
   "source": [
    "2.2 Una bodega de 5 $m$ de largo, 4 $m$ de ancho y 3 $m$ de alto, tiene un contacto en una esquina a 80 $cm$ de alto. Si se requiere colocar un foco en el techo justo en la esquina opuesta, ¿cuál es la distancia sobre las paredes de la bodega que se debe seguir para ahorrar cable eléctrico?\n",
    "\n",
    "Pista: Encuentre el punto P en la imágen.\n",
    "\n",
    "![](./Tarea_OptEsc_2.2.PNG)\n"
   ]
  },
  {
   "cell_type": "markdown",
   "metadata": {},
   "source": [
    "Determinamos que hay un triángulo del contacto al punto P y establecemos que \n",
    "$d=d1+d2$, pero en términos matemáticos $d1-\\sqrt{5^2+x^2}$ y que también\n",
    "$d2-\\sqrt{4^2+(3-(0.8+x)^2)}$"
   ]
  },
  {
   "cell_type": "markdown",
   "metadata": {},
   "source": [
    " $d1-\\sqrt{5^2+x^2}$ y $d2-\\sqrt{4^2+(2.2+x)^2}$"
   ]
  },
  {
   "cell_type": "markdown",
   "metadata": {},
   "source": [
    "Al establcer que 3 es el máximo de altura, realizamos que x tome hasta 2.2"
   ]
  },
  {
   "cell_type": "code",
   "execution_count": 187,
   "metadata": {},
   "outputs": [
    {
     "data": {
      "text/latex": [
       "$\\displaystyle 2.42 \\left(1 - 0.454545454545455 x\\right)^{2} + \\left(x^{2} + 25\\right)^{0.5} + 8.0$"
      ],
      "text/plain": [
       "2.42*(1 - 0.454545454545455*x)**2 + (x**2 + 25)**0.5 + 8.0"
      ]
     },
     "execution_count": 187,
     "metadata": {},
     "output_type": "execute_result"
    }
   ],
   "source": [
    "def f(x):\n",
    "    return (25+x**2)**(1/2)+(16+(2.2-x)**2)*(1/2)\n",
    "f(x)"
   ]
  },
  {
   "cell_type": "code",
   "execution_count": 188,
   "metadata": {},
   "outputs": [
    {
     "data": {
      "text/latex": [
       "$\\displaystyle \\frac{1.0 x}{\\left(x^{2} + 25\\right)^{0.5}} + 1.0 x - 2.2$"
      ],
      "text/plain": [
       "1.0*x/(x**2 + 25)**0.5 + 1.0*x - 2.2"
      ]
     },
     "execution_count": 188,
     "metadata": {},
     "output_type": "execute_result"
    }
   ],
   "source": [
    "df=sym.diff(f(x),x)\n",
    "df"
   ]
  },
  {
   "cell_type": "code",
   "execution_count": 190,
   "metadata": {},
   "outputs": [
    {
     "data": {
      "text/plain": [
       "[1.85256760588343]"
      ]
     },
     "execution_count": 190,
     "metadata": {},
     "output_type": "execute_result"
    }
   ],
   "source": [
    "c=sym.solve(df,x)\n",
    "c"
   ]
  },
  {
   "cell_type": "code",
   "execution_count": 192,
   "metadata": {},
   "outputs": [
    {
     "data": {
      "text/latex": [
       "$\\displaystyle 1.85256760588343$"
      ],
      "text/plain": [
       "1.85256760588343"
      ]
     },
     "execution_count": 192,
     "metadata": {},
     "output_type": "execute_result"
    }
   ],
   "source": [
    "c[0]"
   ]
  },
  {
   "cell_type": "code",
   "execution_count": 194,
   "metadata": {},
   "outputs": [
    {
     "data": {
      "text/latex": [
       "$\\displaystyle 13.3925218047605$"
      ],
      "text/plain": [
       "13.3925218047605"
      ]
     },
     "execution_count": 194,
     "metadata": {},
     "output_type": "execute_result"
    }
   ],
   "source": [
    "f(c[0])"
   ]
  },
  {
   "cell_type": "markdown",
   "metadata": {},
   "source": [
    "el **Punto P** de la imagen sería 1.85"
   ]
  },
  {
   "cell_type": "markdown",
   "metadata": {
    "colab_type": "text",
    "id": "OIowvQqGpG7a"
   },
   "source": [
    "2.3 Un barco encalló a $9 km$ del punto **P** más próximo de una costa en línea recta. Se necesita enviar a un mensajero a un pueblo situado en la orilla de la costa a 15 km de **P**. Teniendo en cuenta que el mensajero recorre a pie $5 km/h$, y en una barca a $4 km/h$, decir en qué punto de la orilla debe desembarcar para llegar al pueblo lo más pronto posible?\n",
    "\n",
    "![](./Tarea_OptEsc_2.3.PNG)"
   ]
  },
  {
   "cell_type": "markdown",
   "metadata": {},
   "source": [
    "Por trigonometría establecemos que el tiempo $T=\\frac{x}{5}+\\frac{y}{4}$"
   ]
  },
  {
   "cell_type": "markdown",
   "metadata": {},
   "source": [
    "Evaluando la función con 15 al máximo queda $y^2=9^2+(15-x)^2$"
   ]
  },
  {
   "cell_type": "markdown",
   "metadata": {},
   "source": [
    "De esta manera la función quedaría como \n",
    "$T(x)=\\frac{x}{5}+\\frac{\\sqrt{9^2+(15-x)^2}}{4}$ y después derivamos"
   ]
  },
  {
   "cell_type": "code",
   "execution_count": 196,
   "metadata": {},
   "outputs": [
    {
     "data": {
      "text/latex": [
       "$\\displaystyle 2.42 \\left(1 - 0.454545454545455 x\\right)^{2} + \\left(x^{2} + 25\\right)^{0.5} + 8.0$"
      ],
      "text/plain": [
       "2.42*(1 - 0.454545454545455*x)**2 + (x**2 + 25)**0.5 + 8.0"
      ]
     },
     "execution_count": 196,
     "metadata": {},
     "output_type": "execute_result"
    }
   ],
   "source": [
    "def t(x):\n",
    "    return (x/5)+((81+(15-x)**2)**(1/2))/4\n",
    "f(x)"
   ]
  },
  {
   "cell_type": "code",
   "execution_count": 197,
   "metadata": {},
   "outputs": [
    {
     "data": {
      "text/latex": [
       "$\\displaystyle \\frac{1.0 x - 15.0}{4 \\left(\\left(15 - x\\right)^{2} + 81\\right)^{0.5}} + \\frac{1}{5}$"
      ],
      "text/plain": [
       "(1.0*x - 15.0)/(4*((15 - x)**2 + 81)**0.5) + 1/5"
      ]
     },
     "execution_count": 197,
     "metadata": {},
     "output_type": "execute_result"
    }
   ],
   "source": [
    "dt=sym.diff(t(x),x)\n",
    "dt"
   ]
  },
  {
   "cell_type": "code",
   "execution_count": 199,
   "metadata": {},
   "outputs": [
    {
     "data": {
      "text/plain": [
       "[3.00000000000000]"
      ]
     },
     "execution_count": 199,
     "metadata": {},
     "output_type": "execute_result"
    }
   ],
   "source": [
    "c=sym.solve(dt,x)\n",
    "c"
   ]
  },
  {
   "cell_type": "code",
   "execution_count": 201,
   "metadata": {},
   "outputs": [
    {
     "data": {
      "text/latex": [
       "$\\displaystyle 3.0$"
      ],
      "text/plain": [
       "3.00000000000000"
      ]
     },
     "execution_count": 201,
     "metadata": {},
     "output_type": "execute_result"
    }
   ],
   "source": [
    "c[0]"
   ]
  },
  {
   "cell_type": "code",
   "execution_count": 202,
   "metadata": {},
   "outputs": [
    {
     "data": {
      "text/latex": [
       "$\\displaystyle 4.35$"
      ],
      "text/plain": [
       "4.35000000000000"
      ]
     },
     "execution_count": 202,
     "metadata": {},
     "output_type": "execute_result"
    }
   ],
   "source": [
    "t(c[0])"
   ]
  },
  {
   "cell_type": "markdown",
   "metadata": {},
   "source": [
    "El valor obtenido es 3 como punto crítico, de esta manera al evaluar en \n",
    "la función se obtiene 4.35"
   ]
  },
  {
   "cell_type": "code",
   "execution_count": null,
   "metadata": {},
   "outputs": [],
   "source": []
  }
 ],
 "metadata": {
  "colab": {
   "collapsed_sections": [],
   "name": "Tarea - OptEsc.ipynb",
   "provenance": []
  },
  "kernelspec": {
   "display_name": "Python 3 (ipykernel)",
   "language": "python",
   "name": "python3"
  },
  "language_info": {
   "codemirror_mode": {
    "name": "ipython",
    "version": 3
   },
   "file_extension": ".py",
   "mimetype": "text/x-python",
   "name": "python",
   "nbconvert_exporter": "python",
   "pygments_lexer": "ipython3",
   "version": "3.9.12"
  }
 },
 "nbformat": 4,
 "nbformat_minor": 1
}
