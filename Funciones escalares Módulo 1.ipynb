{
 "cells": [
  {
   "cell_type": "markdown",
   "metadata": {
    "colab_type": "text",
    "id": "8vITRYq-Tdwq"
   },
   "source": [
    "# Optimización de funciones escalares diferenciables con `SymPy`\n",
    "\n",
    "<img style=\"float: right; margin: 0px 0px 15px 15px;\" src=\"https://upload.wikimedia.org/wikipedia/commons/thumb/b/b6/Extrema_example_es.svg/1200px-Extrema_example_es.svg.png\" width=\"300px\" height=\"100px\" />\n",
    "\n",
    "- Mediante optimización se obtienen soluciones elegantes tanto en teoría como en ciertas aplicaciones. \n",
    "- La teoría de optimización usa elementos comenzando con cálculo elemental y álgebra lineal básica, y luego se extiende con análisis funcional y convexo.\n",
    "- Las aplicaciones en optimización involucran ciencia, ingeniería, economía, finanzas e industria.\n",
    "- El amplio y creciente uso de la optimización lo hace escencial para estudiantes y profesionales de cualquier rama de la ciencia y la tecnología.\n",
    "\n",
    "**Referencia:**\n",
    "- http://www.math.uwaterloo.ca/~hwolkowi//henry/reports/talks.d/t06talks.d/06msribirs.d/optimportance.shtml\n",
    "\n"
   ]
  },
  {
   "cell_type": "markdown",
   "metadata": {
    "colab_type": "text",
    "id": "gTdZipcKTdwz"
   },
   "source": [
    "<img style=\"float: right; margin: 0px 0px 15px 15px;\" src=\"https://upload.wikimedia.org/wikipedia/commons/thumb/e/e7/OpenStreetMap_routing_service.png/300px-OpenStreetMap_routing_service.png\" width=\"300px\" height=\"100px\" />\n",
    "\n",
    "### Algunas aplicaciones son:\n",
    "\n",
    "1. **Ingeniería:**\n",
    " - Encontrar la composición de equilibrio de una mezcla de diferentes átomos.\n",
    " - Planeación de ruta para un robot (o vehículo aéreo no tripulado).\n",
    " - Planeación de la mano de obra óptima en una construcción o planta de producción.\n",
    " - Análisis conformacional - Isomería conformacional en modelado molecular\n",
    " - Desempeño en fermentación de productos.\n",
    " - Estimación de parámetros en bioquímica e ingeniería metabólica.\n",
    " \n",
    " \n",
    "2. **Distribución óptima de recursos:**\n",
    " - Distribución de rutas de vuelo.\n",
    " - Encontrar una dieta óptima.\n",
    " - Planeación de ruta óptima.\n",
    " \n",
    " \n",
    "3. **Optimización financiera:**\n",
    " - Administración de riesgos.\n",
    " - Portafolios de inversión.\n",
    " - Problema de maximización de la utilidad.\n",
    " - la calibración de modelos de precios de opciones para datos de mercado\n",
    " - la optimización de la función de utilidad de un agente"
   ]
  },
  {
   "cell_type": "markdown",
   "metadata": {
    "colab_type": "text",
    "id": "iwfHYBvETdw5"
   },
   "source": [
    "### <p style=\"color:green;\">En esta clase veremos aspectos básicos de optimización. Específicamente, veremos cómo obtener máximos y mínimos de una función escalar de una variable (como en cálculo diferencial).</p>\n",
    "\n",
    "<img style=\"float: center\" src=\"https://matematicasies.com/local/cache-vignettes/L337xH278/extremos-77d0a.png\" width=\"400px\" height=\"100px\" />"
   ]
  },
  {
   "cell_type": "markdown",
   "metadata": {
    "colab_type": "text",
    "id": "7uLPJbcWTdxA"
   },
   "source": [
    "___\n",
    "## 0. Librerías que usaremos\n",
    "<img style=\"float: center\" src=\"https://upload.wikimedia.org/wikipedia/commons/thumb/4/4a/Python3-powered_hello-world.svg/1000px-Python3-powered_hello-world.svg.png\" width=\"300px\" height=\"100px\" />\n"
   ]
  },
  {
   "cell_type": "markdown",
   "metadata": {
    "colab_type": "text",
    "id": "Ik4wEfofTdxF"
   },
   "source": [
    "### 0.1 `NumPy`\n",
    "\n",
    "<img style=\"float: right; margin: 0px 0px 15px 15px;\" src=\"https://numpy.org/images/logo.svg\" width=\"300px\" height=\"100px\" />\n",
    "\n",
    "`NumPy` (Numerical Python) es la librería fundamental para computación científica (numérica) con `Python`. Contiene, entre otras cosas:\n",
    "- un objeto tipo arreglo N-dimensional muy poderoso\n",
    "- funciones sofisticadas\n",
    "- funciones de álgebra lineal, transformada de Fourier y números aleatorios.\n",
    "\n",
    "Por lo anterior, `NumPy` es de amplio uso entre la comunidad científica e ingenieril (por su manejo de cantidades vectoriales). De la misma manera, se usa para guardar datos. Para nuestros propósitos, se puede usar libremente.\n",
    "\n",
    "**Referencia:**\n",
    "- http://www.numpy.org/"
   ]
  },
  {
   "cell_type": "markdown",
   "metadata": {
    "colab_type": "text",
    "id": "9O6a9kpVTdxK"
   },
   "source": [
    "`NumPy` ya viene incluido en la instalación estándar de Anaconda por defecto. Para comenzar a usarlo, solo debemos de importarlo:"
   ]
  },
  {
   "cell_type": "code",
   "execution_count": 10,
   "metadata": {
    "colab": {},
    "colab_type": "code",
    "id": "wBki0z8DTdxP"
   },
   "outputs": [
    {
     "data": {
      "text/plain": [
       "array([2, 4, 6])"
      ]
     },
     "execution_count": 10,
     "metadata": {},
     "output_type": "execute_result"
    }
   ],
   "source": [
    "# Importar librería numpy\n",
    "import numpy as np\n",
    "np.array([1, 2, 3])*2\n"
   ]
  },
  {
   "cell_type": "markdown",
   "metadata": {
    "colab_type": "text",
    "id": "6Ccg3wKhTdxg"
   },
   "source": [
    "### 0.2 `SymPy`\n",
    "\n",
    "<img style=\"float: right; margin: 0px 0px 15px 15px;\" src=\"http://www.sympy.org/static/images/logo.png\" width=\"300px\" height=\"100px\" />\n",
    "\n",
    "`SymPy` (Symbolic Python) es una librería de `Python` para matemáticas simbólicas. Su objetivo es convertirse en un sistema de álgebra computacional con las mejores características, manteniendo el código lo más simple posible para que sea comprensible.\n",
    "\n",
    "**Referencia:**\n",
    "- http://www.sympy.org/en/index.html"
   ]
  },
  {
   "cell_type": "markdown",
   "metadata": {
    "colab_type": "text",
    "id": "T5bDWTY_Tdxl"
   },
   "source": [
    "`SymPy` ya viene incluido en la instalación estándar de Anaconda por defecto. Para comenzar a usarlo, solo debemos de importarlo:"
   ]
  },
  {
   "cell_type": "code",
   "execution_count": 5,
   "metadata": {
    "colab": {},
    "colab_type": "code",
    "id": "cU5vlIkoTdxq"
   },
   "outputs": [],
   "source": [
    "#Importarmos la librería sympy\n",
    "import sympy as sym"
   ]
  },
  {
   "cell_type": "code",
   "execution_count": null,
   "metadata": {},
   "outputs": [],
   "source": []
  },
  {
   "cell_type": "code",
   "execution_count": 6,
   "metadata": {},
   "outputs": [
    {
     "data": {
      "text/latex": [
       "$\\displaystyle x^{2}$"
      ],
      "text/plain": [
       "x**2"
      ]
     },
     "execution_count": 6,
     "metadata": {},
     "output_type": "execute_result"
    }
   ],
   "source": [
    "# Ayuda de la función\n",
    "sym?"
   ]
  },
  {
   "cell_type": "code",
   "execution_count": 11,
   "metadata": {},
   "outputs": [
    {
     "data": {
      "text/latex": [
       "$\\displaystyle x^{2}$"
      ],
      "text/plain": [
       "x**2"
      ]
     },
     "execution_count": 11,
     "metadata": {},
     "output_type": "execute_result"
    }
   ],
   "source": [
    "sym.var('x')\n",
    "x**2"
   ]
  },
  {
   "cell_type": "markdown",
   "metadata": {
    "colab_type": "text",
    "id": "gjOLQEXhTdx5"
   },
   "source": [
    "La funcionalidad de imprimir en formato LaTex que nos da `SymPy` mediante el proyecto `mathjax` hace de `SymPy` una herramienta muy atractiva..."
   ]
  },
  {
   "cell_type": "markdown",
   "metadata": {
    "colab_type": "text",
    "id": "UrAXbps6Tdx-"
   },
   "source": [
    "Notar que en `SymPy` y en `NumPy` existen funciones con el mismo nombre, pero reciben tipos de datos diferentes..."
   ]
  },
  {
   "cell_type": "code",
   "execution_count": 7,
   "metadata": {},
   "outputs": [],
   "source": [
    "#from numpy import *"
   ]
  },
  {
   "cell_type": "code",
   "execution_count": 9,
   "metadata": {},
   "outputs": [
    {
     "data": {
      "text/plain": [
       "1.0"
      ]
     },
     "execution_count": 9,
     "metadata": {},
     "output_type": "execute_result"
    }
   ],
   "source": [
    "cos(0)"
   ]
  },
  {
   "cell_type": "markdown",
   "metadata": {
    "colab_type": "text",
    "id": "KeFOROWHTdyj"
   },
   "source": [
    "Explicar el uso de la sintaxis `from numpy import *` y sus peligros (**no recomendable**)."
   ]
  },
  {
   "cell_type": "code",
   "execution_count": null,
   "metadata": {},
   "outputs": [],
   "source": []
  },
  {
   "cell_type": "markdown",
   "metadata": {
    "colab_type": "text",
    "id": "PApadjXXTdy1"
   },
   "source": [
    "### 0.3 `PyPlot` de `matplotlib`\n",
    "\n",
    "<img style=\"float: right; margin: 0px 0px 15px 15px;\" src=\"https://matplotlib.org/_static/logo2.svg\" width=\"300px\" height=\"100px\" />\n",
    "\n",
    "El módulo `PyPlot` de la librería `matplotlib` contiene funciones que nos permite generar una gran cantidad de gráficas rápidamente. Las funciones de este módulo están escritas con el mismo nombre que las funciones para graficar en `Matlab`.\n",
    "\n",
    "**Referencia:**\n",
    "- https://matplotlib.org/api/pyplot_summary.html"
   ]
  },
  {
   "cell_type": "code",
   "execution_count": 14,
   "metadata": {
    "colab": {},
    "colab_type": "code",
    "id": "jeyrG5yaTdy5"
   },
   "outputs": [
    {
     "name": "stderr",
     "output_type": "stream",
     "text": [
      "Matplotlib is building the font cache; this may take a moment.\n"
     ]
    }
   ],
   "source": [
    "# importar la librería para graficar\n",
    "import matplotlib.pyplot as plt"
   ]
  },
  {
   "cell_type": "code",
   "execution_count": 17,
   "metadata": {},
   "outputs": [
    {
     "data": {
      "image/png": "[encoded data removed]",
      "text/plain": [
       "<Figure size 432x288 with 1 Axes>"
      ]
     },
     "metadata": {
      "needs_background": "light"
     },
     "output_type": "display_data"
    }
   ],
   "source": [
    "plt.plot ([-1, 0, 1], [2, 0, 2], 'g--')\n",
    "plt.grid()"
   ]
  },
  {
   "cell_type": "markdown",
   "metadata": {
    "colab_type": "text",
    "id": "O8veHX8PTdzJ"
   },
   "source": [
    "## 1. Teorema de Fermat (análisis)\n",
    "\n",
    "Si una función $f(x)$ alcanza un máximo o mínimo local en $x=c$, y si la derivada $f'(c)$ existe en el punto $c$, entonces $f'(c) = 0$."
   ]
  },
  {
   "cell_type": "markdown",
   "metadata": {
    "colab_type": "text",
    "id": "ZEUcqZoPTdzO"
   },
   "source": [
    "### Ejemplo\n",
    "\n",
    "Sabemos que la función $f(x)=(x-2)^2$ tiene un mínimo global en $x=2$, pues\n",
    "\n",
    "$$f(x)=(x-2)^2\\geq0,\\qquad\\text{y}\\qquad f(x)=(x-2)^2=0 \\qquad\\text{si y solo si}\\qquad x=2.$$"
   ]
  },
  {
   "cell_type": "code",
   "execution_count": 18,
   "metadata": {},
   "outputs": [
    {
     "data": {
      "text/latex": [
       "$\\displaystyle x$"
      ],
      "text/plain": [
       "x"
      ]
     },
     "execution_count": 18,
     "metadata": {},
     "output_type": "execute_result"
    }
   ],
   "source": [
    "sym.var('x')"
   ]
  },
  {
   "cell_type": "code",
   "execution_count": 19,
   "metadata": {},
   "outputs": [
    {
     "data": {
      "text/latex": [
       "$\\displaystyle \\left(x - 2\\right)^{2}$"
      ],
      "text/plain": [
       "(x - 2)**2"
      ]
     },
     "execution_count": 19,
     "metadata": {},
     "output_type": "execute_result"
    }
   ],
   "source": [
    "f=(x-2)**2\n",
    "f   # mostramos f "
   ]
  },
  {
   "cell_type": "code",
   "execution_count": 21,
   "metadata": {},
   "outputs": [],
   "source": [
    "# derivamos 'f'\n",
    "sym.diff?"
   ]
  },
  {
   "cell_type": "code",
   "execution_count": 22,
   "metadata": {},
   "outputs": [
    {
     "data": {
      "text/latex": [
       "$\\displaystyle 2 x - 4$"
      ],
      "text/plain": [
       "2*x - 4"
      ]
     },
     "execution_count": 22,
     "metadata": {},
     "output_type": "execute_result"
    }
   ],
   "source": [
    "df=sym.diff(f,x)\n",
    "df   # mostrasmos df"
   ]
  },
  {
   "cell_type": "code",
   "execution_count": 23,
   "metadata": {},
   "outputs": [],
   "source": [
    "sym.solve?"
   ]
  },
  {
   "cell_type": "code",
   "execution_count": 24,
   "metadata": {},
   "outputs": [
    {
     "data": {
      "text/plain": [
       "[2]"
      ]
     },
     "execution_count": 24,
     "metadata": {},
     "output_type": "execute_result"
    }
   ],
   "source": [
    "c=sym.solve(df,x)\n",
    "c  # mostramos c "
   ]
  },
  {
   "cell_type": "code",
   "execution_count": 25,
   "metadata": {},
   "outputs": [
    {
     "data": {
      "text/latex": [
       "$\\displaystyle 2$"
      ],
      "text/plain": [
       "2"
      ]
     },
     "execution_count": 25,
     "metadata": {},
     "output_type": "execute_result"
    }
   ],
   "source": [
    "c[0]  #pedimos la dirección 0"
   ]
  },
  {
   "cell_type": "markdown",
   "metadata": {
    "colab_type": "text",
    "id": "zRcC_dQOTd0L"
   },
   "source": [
    "Veamos la gráfica..."
   ]
  },
  {
   "cell_type": "code",
   "execution_count": 29,
   "metadata": {
    "colab": {},
    "colab_type": "code",
    "id": "2X9Ahl2LTd0Q"
   },
   "outputs": [],
   "source": [
    "# Definir coordenas x\n",
    "xnum=np.linspace(-1, 5, 500)  # Genera elementos linealmente espaciados entre -1 y 5"
   ]
  },
  {
   "cell_type": "code",
   "execution_count": 30,
   "metadata": {
    "colab": {},
    "colab_type": "code",
    "id": "T5Fagnb5Td0i",
    "scrolled": false
   },
   "outputs": [],
   "source": [
    "# Convertir función simbólica f a una función numérica\n",
    "fnum=sym.lambdify(x,f,'numpy')\n",
    "ynum=fnum(xnum)"
   ]
  },
  {
   "cell_type": "code",
   "execution_count": 31,
   "metadata": {
    "colab": {},
    "colab_type": "code",
    "id": "0MV4bEgWTd03"
   },
   "outputs": [
    {
     "data": {
      "image/png": "[encoded data removed]",
      "text/plain": [
       "<Figure size 720x504 with 1 Axes>"
      ]
     },
     "metadata": {
      "needs_background": "light"
     },
     "output_type": "display_data"
    }
   ],
   "source": [
    "# Graficar:\n",
    "#    Creamos una ventana de gráficos\n",
    "plt.figure(figsize=(10,7))\n",
    "\n",
    "plt.plot(xnum,ynum)\n",
    "plt.plot(c,fnum(c[0]), '*r', ms=15)   # '*r' -> estrella roja,  ms -> MarkSize\n",
    "plt.grid()\n",
    "\n",
    "#    Mostrar gráfico\n",
    "plt.show()"
   ]
  },
  {
   "cell_type": "markdown",
   "metadata": {
    "colab_type": "text",
    "id": "aOJhHKhMTd1G"
   },
   "source": [
    "Ver diferencias entre f y f_num"
   ]
  },
  {
   "cell_type": "code",
   "execution_count": 32,
   "metadata": {},
   "outputs": [
    {
     "ename": "TypeError",
     "evalue": "'Pow' object is not callable",
     "output_type": "error",
     "traceback": [
      "\u001b[1;31m---------------------------------------------------------------------------\u001b[0m",
      "\u001b[1;31mTypeError\u001b[0m                                 Traceback (most recent call last)",
      "Input \u001b[1;32mIn [32]\u001b[0m, in \u001b[0;36m<cell line: 1>\u001b[1;34m()\u001b[0m\n\u001b[1;32m----> 1\u001b[0m \u001b[43mf\u001b[49m\u001b[43m(\u001b[49m\u001b[43mxnum\u001b[49m\u001b[43m)\u001b[49m\n",
      "\u001b[1;31mTypeError\u001b[0m: 'Pow' object is not callable"
     ]
    }
   ],
   "source": [
    "f(xnum)  # Esto marca error"
   ]
  },
  {
   "cell_type": "markdown",
   "metadata": {
    "colab_type": "text",
    "id": "67SkgnjhTd1g"
   },
   "source": [
    "### **Otra manera de hacer lo anterior**\n",
    "\n",
    "Revisemos el concepto de función en `Python`"
   ]
  },
  {
   "cell_type": "code",
   "execution_count": 33,
   "metadata": {},
   "outputs": [
    {
     "data": {
      "text/plain": [
       "array([1, 4, 1], dtype=int32)"
      ]
     },
     "execution_count": 33,
     "metadata": {},
     "output_type": "execute_result"
    }
   ],
   "source": [
    "def f(x):\n",
    "    return (x-2)**2\n",
    "f(np.array([1,0,3]))"
   ]
  },
  {
   "cell_type": "code",
   "execution_count": 34,
   "metadata": {},
   "outputs": [
    {
     "data": {
      "text/latex": [
       "$\\displaystyle x$"
      ],
      "text/plain": [
       "x"
      ]
     },
     "execution_count": 34,
     "metadata": {},
     "output_type": "execute_result"
    }
   ],
   "source": [
    "x"
   ]
  },
  {
   "cell_type": "code",
   "execution_count": 35,
   "metadata": {},
   "outputs": [
    {
     "data": {
      "text/latex": [
       "$\\displaystyle \\left(x - 2\\right)^{2}$"
      ],
      "text/plain": [
       "(x - 2)**2"
      ]
     },
     "execution_count": 35,
     "metadata": {},
     "output_type": "execute_result"
    }
   ],
   "source": [
    "f(x)"
   ]
  },
  {
   "cell_type": "code",
   "execution_count": 36,
   "metadata": {},
   "outputs": [
    {
     "data": {
      "text/plain": [
       "[2]"
      ]
     },
     "execution_count": 36,
     "metadata": {},
     "output_type": "execute_result"
    }
   ],
   "source": [
    "# Derivamos\n",
    "df=sym.diff(f(x),x)\n",
    "\n",
    "# Encotramos el punto crítico\n",
    "c=sym.solve(df,x)\n",
    "c"
   ]
  },
  {
   "cell_type": "code",
   "execution_count": 38,
   "metadata": {},
   "outputs": [
    {
     "data": {
      "image/png": "[encoded data removed]",
      "text/plain": [
       "<Figure size 432x288 with 1 Axes>"
      ]
     },
     "metadata": {
      "needs_background": "light"
     },
     "output_type": "display_data"
    }
   ],
   "source": [
    "plt.plot(xnum,f(xnum))\n",
    "plt.plot(c,f(c[0]), '*r',ms=15)\n",
    "plt.grid()"
   ]
  },
  {
   "cell_type": "markdown",
   "metadata": {
    "colab_type": "text",
    "id": "nJKkfvTVTd2y"
   },
   "source": [
    "**El converso del teorema anterior no es cierto.**\n",
    "\n",
    "### Actividad\n",
    "Considere $g(x)=(x-2)^3$. \n",
    "- Usando `sympy`, muestre que $g'(2)=0$.\n",
    "- Sin embargo, descartar que $x=2$ es un extremo de $g(x)$ viendo su **gráfica**."
   ]
  },
  {
   "cell_type": "code",
   "execution_count": 39,
   "metadata": {
    "colab": {},
    "colab_type": "code",
    "id": "aUErJxXjTd21"
   },
   "outputs": [
    {
     "data": {
      "text/plain": [
       "[2]"
      ]
     },
     "execution_count": 39,
     "metadata": {},
     "output_type": "execute_result"
    }
   ],
   "source": [
    "def g(x):\n",
    "    return (x-2)**3\n",
    "dg=sym.diff(g(x),x)\n",
    "c=sym.solve(dg,x)\n",
    "c"
   ]
  },
  {
   "cell_type": "code",
   "execution_count": 42,
   "metadata": {},
   "outputs": [
    {
     "data": {
      "image/png": "[encoded data removed]",
      "text/plain": [
       "<Figure size 432x288 with 1 Axes>"
      ]
     },
     "metadata": {
      "needs_background": "light"
     },
     "output_type": "display_data"
    }
   ],
   "source": [
    "# Graficamos\n",
    "#Usamos el mismo xnum\n",
    "\n",
    "ynum=g(xnum)\n",
    "plt.plot(xnum,ynum)\n",
    "plt.plot(c,g(c[0]), '+k',ms=15)   # '+k' -> cruz negro\n",
    "plt.grid()"
   ]
  },
  {
   "cell_type": "markdown",
   "metadata": {
    "colab_type": "text",
    "id": "5cHqWJmcTd3A"
   },
   "source": [
    "## 2. Criterio de la segunda derivada\n",
    "\n",
    "Sea $f(x)$ una función tal que $f’(c)=0$ y cuya segunda derivada existe en un intervalo abierto que contiene a $c$.\n",
    "- Si $f’’(c)>0$, entonces $f(c)$ es un mínimo relativo.\n",
    "- Si $f’’(c)<0$, entonces $f(c)$ es un máximo relativo.\n",
    "- Si $f’’(c)=0$, entonces el criterio no decide. "
   ]
  },
  {
   "cell_type": "markdown",
   "metadata": {
    "colab_type": "text",
    "id": "l4NcYjskTd3G"
   },
   "source": [
    "### Ejemplo\n",
    "\n",
    "Mostrar, usando `sympy`, que la función $f(x)=(x-2)^2$ tiene un mínimo relativo en $x=2$.\n",
    "\n",
    "Ya vimos que $f'(2)=0$. Notemos que:"
   ]
  },
  {
   "cell_type": "code",
   "execution_count": 1,
   "metadata": {},
   "outputs": [],
   "source": [
    "import numpy as np     # Librería numérica\n",
    "import sympy as sym     # Librería simbólica\n",
    "import matplotlib.pyplot as plt  # Librería gráfica"
   ]
  },
  {
   "cell_type": "code",
   "execution_count": 2,
   "metadata": {},
   "outputs": [
    {
     "data": {
      "text/latex": [
       "$\\displaystyle \\left(x - 2\\right)^{2}$"
      ],
      "text/plain": [
       "(x - 2)**2"
      ]
     },
     "execution_count": 2,
     "metadata": {},
     "output_type": "execute_result"
    }
   ],
   "source": [
    "# Definimos la función de interés (criterio de optimización)\n",
    "def f(x):\n",
    "    return (x-2)**2\n",
    "\n",
    "#Definimos la variable simbólica\n",
    "sym.var('x')\n",
    "\n",
    "f(x) #visualizamos la función"
   ]
  },
  {
   "cell_type": "code",
   "execution_count": 3,
   "metadata": {},
   "outputs": [
    {
     "data": {
      "text/plain": [
       "[2]"
      ]
     },
     "execution_count": 3,
     "metadata": {},
     "output_type": "execute_result"
    }
   ],
   "source": [
    "df=sym.diff(f(x),x) #Derivamos f(x)\n",
    "c=sym.solve(df,x) #Resolvemos para la derivada igual a cero\n",
    "c  #Mostramos los puntos críticos"
   ]
  },
  {
   "cell_type": "code",
   "execution_count": 4,
   "metadata": {},
   "outputs": [
    {
     "data": {
      "text/latex": [
       "$\\displaystyle 2$"
      ],
      "text/plain": [
       "2"
      ]
     },
     "execution_count": 4,
     "metadata": {},
     "output_type": "execute_result"
    }
   ],
   "source": [
    "#Usamos el criterio de la segunda derivada\n",
    "ddf=sym.diff(df,x) #Derivando la derivada\n",
    "ddf"
   ]
  },
  {
   "cell_type": "code",
   "execution_count": 5,
   "metadata": {},
   "outputs": [
    {
     "data": {
      "text/latex": [
       "$\\displaystyle 2$"
      ],
      "text/plain": [
       "2"
      ]
     },
     "execution_count": 5,
     "metadata": {},
     "output_type": "execute_result"
    }
   ],
   "source": [
    "ddf=sym.diff(f(x),x,2) #Equivalente a diff(f(x), x, x). Derivando f(x) dos veces \n",
    "ddf"
   ]
  },
  {
   "cell_type": "markdown",
   "metadata": {
    "colab_type": "text",
    "id": "IMiFjnaMTd32"
   },
   "source": [
    "Por tanto, por el criterio de la segunda derivada, $f(2)=0$ es un mínimo relativo (en efecto, el mínimo global)."
   ]
  },
  {
   "cell_type": "markdown",
   "metadata": {
    "colab_type": "text",
    "id": "LRddFOZBTd36"
   },
   "source": [
    "### Ejemplo\n",
    "¿Qué pasa con $g(x)=(x-2)^3$ al intentar utilizar el criterio de la segunda derivada? (usar `sympy`)."
   ]
  },
  {
   "cell_type": "code",
   "execution_count": 6,
   "metadata": {},
   "outputs": [
    {
     "data": {
      "text/latex": [
       "$\\displaystyle \\left(x - 2\\right)^{3}$"
      ],
      "text/plain": [
       "(x - 2)**3"
      ]
     },
     "execution_count": 6,
     "metadata": {},
     "output_type": "execute_result"
    }
   ],
   "source": [
    "def g(x):\n",
    "    return (x-2)**3\n",
    "g(x)"
   ]
  },
  {
   "cell_type": "code",
   "execution_count": 7,
   "metadata": {},
   "outputs": [
    {
     "data": {
      "text/latex": [
       "$\\displaystyle 6 x - 12$"
      ],
      "text/plain": [
       "6*x - 12"
      ]
     },
     "execution_count": 7,
     "metadata": {},
     "output_type": "execute_result"
    }
   ],
   "source": [
    "dg=sym.diff(g(x),x)\n",
    "c=sym.solve(dg,x)\n",
    "ddg=sym.diff(dg,x)\n",
    "ddg"
   ]
  },
  {
   "cell_type": "code",
   "execution_count": 8,
   "metadata": {},
   "outputs": [
    {
     "data": {
      "text/latex": [
       "$\\displaystyle 0$"
      ],
      "text/plain": [
       "0"
      ]
     },
     "execution_count": 8,
     "metadata": {},
     "output_type": "execute_result"
    }
   ],
   "source": [
    "#Sustituyendo el punto crítico en 'x'\n",
    "ddg.subs(x,c[0])"
   ]
  },
  {
   "cell_type": "markdown",
   "metadata": {
    "colab_type": "text",
    "id": "rQXsRXMZTd4k"
   },
   "source": [
    "Como $g''(2)=0$ entonces el criterio de la segunda derivada no concluye."
   ]
  },
  {
   "cell_type": "code",
   "execution_count": 9,
   "metadata": {},
   "outputs": [
    {
     "data": {
      "image/png": "[encoded data removed]",
      "text/plain": [
       "<Figure size 432x288 with 1 Axes>"
      ]
     },
     "metadata": {
      "needs_background": "light"
     },
     "output_type": "display_data"
    }
   ],
   "source": [
    "#Entonces graficamos\n",
    "xnum=np.linspace(-1,5,500) #Regresa 500 valores linealmente esaciados entre -1 a 5\n",
    "ynum=g(xnum)      #Evaluamos la función 'g' en los valores de xnum\n",
    "plt.plot(xnum,ynum)\n",
    "plt.plot(c[0],g(c[0]),'sc',ms=25) #Graficamos un cuadro cian\n",
    "plt.grid()                        #Mostramos una cuadrícula"
   ]
  },
  {
   "cell_type": "markdown",
   "metadata": {
    "colab_type": "text",
    "id": "EtrhIC04Td4n"
   },
   "source": [
    "### Actividad\n",
    "\n",
    "¿Qué pasa con $h(x)=(x-2)^4$ al intentar utilizar el criterio de la segunda derivada?."
   ]
  },
  {
   "cell_type": "code",
   "execution_count": 10,
   "metadata": {},
   "outputs": [
    {
     "data": {
      "text/latex": [
       "$\\displaystyle \\left(x - 2\\right)^{4}$"
      ],
      "text/plain": [
       "(x - 2)**4"
      ]
     },
     "execution_count": 10,
     "metadata": {},
     "output_type": "execute_result"
    }
   ],
   "source": [
    "#Importamos las librerías...\n",
    "#Definimos la variable simbólica...\n",
    "\n",
    "#Definimos el criterio de optimización\n",
    "def h(x):\n",
    "    return (x-2)**4\n",
    "h(x)"
   ]
  },
  {
   "cell_type": "code",
   "execution_count": 18,
   "metadata": {},
   "outputs": [
    {
     "data": {
      "text/latex": [
       "$\\displaystyle 12 \\left(x - 2\\right)^{2}$"
      ],
      "text/plain": [
       "12*(x - 2)**2"
      ]
     },
     "execution_count": 18,
     "metadata": {},
     "output_type": "execute_result"
    }
   ],
   "source": [
    "#Derivamos\n",
    "dh=sym.diff(h(x),x)\n",
    "#Encontramos los puntos crpiticos\n",
    "c=sym.solve(dh,x)\n",
    "#Realizamos la segunda derivada\n",
    "ddh=sym.diff(dh,x)\n",
    "ddh"
   ]
  },
  {
   "cell_type": "code",
   "execution_count": 19,
   "metadata": {},
   "outputs": [
    {
     "data": {
      "text/plain": [
       "[2]"
      ]
     },
     "execution_count": 19,
     "metadata": {},
     "output_type": "execute_result"
    }
   ],
   "source": [
    "c #Puntos críticos"
   ]
  },
  {
   "cell_type": "code",
   "execution_count": 17,
   "metadata": {},
   "outputs": [
    {
     "data": {
      "text/latex": [
       "$\\displaystyle 0$"
      ],
      "text/plain": [
       "0"
      ]
     },
     "execution_count": 17,
     "metadata": {},
     "output_type": "execute_result"
    }
   ],
   "source": [
    "#Sustituimos 'x' con 'c[0]'\n",
    "ddh.subs(x,c[0])"
   ]
  },
  {
   "cell_type": "code",
   "execution_count": 21,
   "metadata": {},
   "outputs": [
    {
     "data": {
      "image/png": "[encoded data removed]",
      "text/plain": [
       "<Figure size 432x288 with 1 Axes>"
      ]
     },
     "metadata": {
      "needs_background": "light"
     },
     "output_type": "display_data"
    }
   ],
   "source": [
    "# Como la segunda derivada es 0 (No es concluyente), graficamos\n",
    "\n",
    "#Definimos el espacio donde queremos mostrar la gráfica\n",
    "xnum=np.linspace(-1,5,500)  \n",
    "#Evaluamos la función 'h' en 'xnum'\n",
    "ynum=h(xnum) \n",
    "#Mostramos la gráfica\n",
    "plt.plot(xnum,ynum)\n",
    "#Mostramos el punto crítico\n",
    "plt.plot(c[0],h(c[0]),'d',ms=20)\n",
    "#Mostramos la cuadrícula\n",
    "plt.grid()"
   ]
  },
  {
   "cell_type": "markdown",
   "metadata": {
    "colab_type": "text",
    "id": "ADXxt3lLTd43"
   },
   "source": [
    "## 3. Método para determinar extremos absolutos de una función continua y=f(x) en [a,b] \n",
    "\n",
    "- Determinar todos los valores críticos $c_1, c_2, c_3, \\dots, c_n$ en $(a,b)$.\n",
    "- Evaluar $f$ en todos los valores críticos y en los extremos $x=a$ y $x=b$.\n",
    "- El más grande y el más pequeño de los valores de la lista $f(a), f(b), f(c_1), f(c_2), \\dots, f(c_n)$ son el máximo absoluto y el mínimo absoluto, respectivamente, de $f$ en el intervalo $[a,b]$."
   ]
  },
  {
   "cell_type": "markdown",
   "metadata": {
    "colab_type": "text",
    "collapsed": true,
    "id": "HiedyU4lTd5B"
   },
   "source": [
    "### Ejemplo\n",
    "\n",
    "Determinar los extremos absolutos de $f(x)=x^2-2x+5$ en $\\left[0,3\\right]$.\n",
    "\n",
    "Obtenemos los puntos críticos de $f$ en $\\left[0,3\\right]$:"
   ]
  },
  {
   "cell_type": "code",
   "execution_count": 24,
   "metadata": {},
   "outputs": [
    {
     "data": {
      "text/plain": [
       "[1]"
      ]
     },
     "execution_count": 24,
     "metadata": {},
     "output_type": "execute_result"
    }
   ],
   "source": [
    "def f(x):\n",
    "    return x**2-2*x+5\n",
    "df=sym.diff(f(x),x)\n",
    "c=sym.solve(df,x)\n",
    "c"
   ]
  },
  {
   "cell_type": "markdown",
   "metadata": {
    "colab_type": "text",
    "id": "wDmIoTF7Td5h"
   },
   "source": [
    "Evaluamos $f$ en los extremos y en los puntos críticos:"
   ]
  },
  {
   "cell_type": "code",
   "execution_count": 25,
   "metadata": {},
   "outputs": [
    {
     "data": {
      "text/plain": [
       "5"
      ]
     },
     "execution_count": 25,
     "metadata": {},
     "output_type": "execute_result"
    }
   ],
   "source": [
    "f(0)  #Evaluamos 'f' en el extremo menor"
   ]
  },
  {
   "cell_type": "code",
   "execution_count": 26,
   "metadata": {},
   "outputs": [
    {
     "data": {
      "text/plain": [
       "4"
      ]
     },
     "execution_count": 26,
     "metadata": {},
     "output_type": "execute_result"
    }
   ],
   "source": [
    "f(1)  #Evaluamos 'f' en el punto crítico"
   ]
  },
  {
   "cell_type": "code",
   "execution_count": 28,
   "metadata": {},
   "outputs": [
    {
     "data": {
      "text/plain": [
       "8"
      ]
     },
     "execution_count": 28,
     "metadata": {},
     "output_type": "execute_result"
    }
   ],
   "source": [
    "f(3)  #Evaluamos 'f' en el extremo mayor"
   ]
  },
  {
   "cell_type": "code",
   "execution_count": 30,
   "metadata": {},
   "outputs": [
    {
     "data": {
      "text/plain": [
       "array([5, 4, 8])"
      ]
     },
     "execution_count": 30,
     "metadata": {},
     "output_type": "execute_result"
    }
   ],
   "source": [
    "#Definimos los 3 elementos en un arreglo NumPy para evaluarlos a la vez\n",
    "p=np.array([0,1,3])\n",
    "f(p)"
   ]
  },
  {
   "cell_type": "markdown",
   "metadata": {
    "colab_type": "text",
    "id": "iVZJEjM3Td6Q"
   },
   "source": [
    "### Actividad\n",
    "Determinar los valores extremos absolutos de  $f(x) = (x-3)^2(x+3)^2$ en el intervalo $[1,\\,4]$, usando `sympy`. Mostrar en una gráfica."
   ]
  },
  {
   "cell_type": "code",
   "execution_count": 34,
   "metadata": {},
   "outputs": [
    {
     "data": {
      "text/plain": [
       "[-3, 0, 3]"
      ]
     },
     "execution_count": 34,
     "metadata": {},
     "output_type": "execute_result"
    }
   ],
   "source": [
    "def f(x):\n",
    "    return (x-3)**2*(x+3)**2\n",
    "df=sym.diff(f(x),x)\n",
    "c=sym.solve(df,x)\n",
    "c"
   ]
  },
  {
   "cell_type": "code",
   "execution_count": 35,
   "metadata": {},
   "outputs": [
    {
     "data": {
      "text/latex": [
       "$\\displaystyle 3$"
      ],
      "text/plain": [
       "3"
      ]
     },
     "execution_count": 35,
     "metadata": {},
     "output_type": "execute_result"
    }
   ],
   "source": [
    "c[2] #Es el único punto crítico dentro del intervalo"
   ]
  },
  {
   "cell_type": "code",
   "execution_count": 33,
   "metadata": {},
   "outputs": [
    {
     "data": {
      "text/plain": [
       "array([64,  0, 49], dtype=int32)"
      ]
     },
     "execution_count": 33,
     "metadata": {},
     "output_type": "execute_result"
    }
   ],
   "source": [
    "p=np.array([1,3,4])\n",
    "f(p)"
   ]
  },
  {
   "cell_type": "markdown",
   "metadata": {},
   "source": [
    "---\n",
    "1. **Resistencia de una viga**  Una viga de madera tiene una sección transversal rectangular de altura $h$ y ancho $w$. La resistencia $S$ de la viga es directamente proporcional al ancho y al cuadrado de su altura ($S=kwh^2$, donde $k$ es una constante de proporcionalidad). ¿Cuáles son las dimensiones de la viga más fuerte que puede cortarse a partir de un leño redondo de $24$ pulgadas de diámetro?"
   ]
  },
  {
   "cell_type": "code",
   "execution_count": 4,
   "metadata": {},
   "outputs": [
    {
     "data": {
      "image/png": "[encoded data removed]",
      "text/plain": [
       "<Figure size 432x288 with 1 Axes>"
      ]
     },
     "metadata": {
      "needs_background": "light"
     },
     "output_type": "display_data"
    }
   ],
   "source": [
    "import numpy as np\n",
    "import matplotlib.pyplot as plt\n",
    "import matplotlib.patches as patches\n",
    "\n",
    "C = patches.Circle((0, 0),12, fill=False,color='brown',lw=4)\n",
    "S = patches.Rectangle((-9,-8),18,16,fill=False,color='k')\n",
    "ax = plt.gca()\n",
    "ax.add_artist(S)\n",
    "ax.add_artist(C)\n",
    "\n",
    "plt.text(0,8.5,'$w$')\n",
    "plt.text(9.5,0,'$h$')\n",
    "\n",
    "plt.plot([-9,9],[-8,8],'r--')\n",
    "plt.text(0,2,'$24$')\n",
    "\n",
    "plt.axis('equal')\n",
    "plt.ylim([-15,15])\n",
    "plt.axis('off')\n",
    "plt.show()"
   ]
  },
  {
   "cell_type": "markdown",
   "metadata": {},
   "source": [
    "**Solución:**\n",
    "\n",
    "Se desea maximisar la resistencia $S=wh^2$, donde $w$ es el ancho de una viga cuadrada y $h$ es la altura de esta. Se sabe que las dimenciones se relacionan de la siguente manera\n",
    "$$\n",
    "24^2=w^2+h^2.\n",
    "$$\n",
    "Sustituyendo $h$ en $S$, se tiene\n",
    "$$\n",
    "S=w(24^2-w^2),\n",
    "$$\n",
    "entonces, el criterio de optimización es \n",
    "$$\n",
    "\\max_{w}w(24^2-w^2)\n",
    "$$\n",
    "Para $0<w<24$."
   ]
  },
  {
   "cell_type": "code",
   "execution_count": 38,
   "metadata": {},
   "outputs": [
    {
     "data": {
      "text/latex": [
       "$\\displaystyle w \\left(576 - w^{2}\\right)$"
      ],
      "text/plain": [
       "w*(576 - w**2)"
      ]
     },
     "execution_count": 38,
     "metadata": {},
     "output_type": "execute_result"
    }
   ],
   "source": [
    "def S(w):\n",
    "    return w*(24**2-w**2)\n",
    "sym.var('w',real=True) #Especificamos que 'w' es real\n",
    "S(w)"
   ]
  },
  {
   "cell_type": "code",
   "execution_count": 39,
   "metadata": {},
   "outputs": [
    {
     "data": {
      "text/plain": [
       "[-8*sqrt(3), 8*sqrt(3)]"
      ]
     },
     "execution_count": 39,
     "metadata": {},
     "output_type": "execute_result"
    }
   ],
   "source": [
    "dS=sym.diff(S(w),w)\n",
    "c=sym.solve(dS,w)\n",
    "c"
   ]
  },
  {
   "cell_type": "code",
   "execution_count": 42,
   "metadata": {},
   "outputs": [
    {
     "data": {
      "text/latex": [
       "$\\displaystyle 8 \\sqrt{3}$"
      ],
      "text/plain": [
       "8*sqrt(3)"
      ]
     },
     "execution_count": 42,
     "metadata": {},
     "output_type": "execute_result"
    }
   ],
   "source": [
    "#El ancho óptimo\n",
    "c[1]"
   ]
  },
  {
   "cell_type": "code",
   "execution_count": 43,
   "metadata": {},
   "outputs": [
    {
     "data": {
      "text/latex": [
       "$\\displaystyle - 6 w$"
      ],
      "text/plain": [
       "-6*w"
      ]
     },
     "execution_count": 43,
     "metadata": {},
     "output_type": "execute_result"
    }
   ],
   "source": [
    "#Usando el criterio de la segunda derivada \n",
    "ddS=sym.diff(S(w),w,2)\n",
    "ddS"
   ]
  },
  {
   "cell_type": "code",
   "execution_count": 44,
   "metadata": {},
   "outputs": [
    {
     "data": {
      "text/latex": [
       "$\\displaystyle - 48 \\sqrt{3}$"
      ],
      "text/plain": [
       "-48*sqrt(3)"
      ]
     },
     "execution_count": 44,
     "metadata": {},
     "output_type": "execute_result"
    }
   ],
   "source": [
    "ddS.subs(w,c[1])"
   ]
  },
  {
   "cell_type": "code",
   "execution_count": 45,
   "metadata": {},
   "outputs": [
    {
     "data": {
      "text/latex": [
       "$\\displaystyle 3072 \\sqrt{3}$"
      ],
      "text/plain": [
       "3072*sqrt(3)"
      ]
     },
     "execution_count": 45,
     "metadata": {},
     "output_type": "execute_result"
    }
   ],
   "source": [
    "#La resistencia máxima\n",
    "S(c[1])"
   ]
  },
  {
   "cell_type": "code",
   "execution_count": 46,
   "metadata": {},
   "outputs": [
    {
     "data": {
      "text/plain": [
       "5320.860080851591"
      ]
     },
     "execution_count": 46,
     "metadata": {},
     "output_type": "execute_result"
    }
   ],
   "source": [
    "S(8*np.sqrt(3))"
   ]
  },
  {
   "cell_type": "markdown",
   "metadata": {},
   "source": [
    "---\n",
    "2. **Iluminación**  Una fuente luminosa se localiza sobre el centro de una mesa circular de $4 pies$ de diámetro. Encontrar la altura $h$ de la fuente luminosa de modo tal que la iluminación $I$ en el perímetro de la mesa sea máxima si $I=k(\\sin \\alpha)/s^2$, donde $s$ es la altura oblicua, $\\alpha$ es el ángulo al cual la luz incide sobre la mesa y $k$ es una constante (El valor de esta última constante es irrelevante para el problema, ya que no se pide el valor de la iluminación)."
   ]
  },
  {
   "cell_type": "code",
   "execution_count": 5,
   "metadata": {},
   "outputs": [
    {
     "data": {
      "image/png": "[encoded data removed]",
      "text/plain": [
       "<Figure size 432x288 with 1 Axes>"
      ]
     },
     "metadata": {
      "needs_background": "light"
     },
     "output_type": "display_data"
    }
   ],
   "source": [
    "E = patches.Ellipse((0, 0),10, 3,fc='white',ec='brown')\n",
    "C = patches.Circle((0,10.5),0.5,color='y')\n",
    "a = patches.Arc((-5,0),2,2,theta2=60)\n",
    "p1 = patches.Rectangle((-5, -2),0.5, 2, fill=False,color='brown')\n",
    "p2 = patches.Rectangle((4.5, -2),0.5, 2, fill=False,color='brown')\n",
    "p3 = patches.Rectangle((-0.25, -3),0.5, 2, fill=False,color='brown')\n",
    "ax = plt.gca()\n",
    "ax.add_artist(p1)\n",
    "ax.add_artist(p2)\n",
    "ax.add_artist(p3)\n",
    "ax.add_artist(E)\n",
    "ax.add_artist(C)\n",
    "ax.add_artist(a)\n",
    "\n",
    "plt.text(2,5,'$s$')\n",
    "plt.text(0,3,'$h$')\n",
    "plt.text(-4,0.5,r'$\\alpha$')\n",
    "plt.text(-0.5,-1,'$4$ pies')\n",
    "\n",
    "plt.plot([-5,0,5],[0,10,0],'y--')\n",
    "plt.plot([-5,5],[0,0],'k--')\n",
    "plt.plot([0,0],[0,10],'k--')\n",
    "\n",
    "\n",
    "plt.axis('equal')\n",
    "plt.ylim([-3.1,12])\n",
    "plt.axis('off')\n",
    "plt.show()"
   ]
  },
  {
   "cell_type": "markdown",
   "metadata": {},
   "source": [
    "**Solución**\n",
    "Se desa maximizar la iluminación $I=k\\mathrm{sin}(\\alpha)/s^2$ donde $\\mathrm{\\alpha}=h/s$ y $s^2=h^2+2^2$. Sustituimos para \n",
    "$h$, resultando\n",
    "$$\n",
    "I=k\\frac{h}{\\sqrt{h^2+2^2}(h^2+2^2)},\n",
    "$$\n",
    "Entonces, estableciendo $k=1$, se encontrará el maximo de $I$ con respecto a la altura $h$\n",
    "$$\n",
    "\\max_{h}\\frac{h}{\\sqrt{h^2+2^2}(h^2+2^2)},\n",
    "$$\n",
    "para $h>0$"
   ]
  },
  {
   "cell_type": "code",
   "execution_count": 6,
   "metadata": {},
   "outputs": [],
   "source": [
    "import sympy as sym"
   ]
  },
  {
   "cell_type": "code",
   "execution_count": 17,
   "metadata": {},
   "outputs": [
    {
     "data": {
      "text/latex": [
       "$\\displaystyle \\frac{h}{\\left(h^{2} + 4\\right)^{1.5}}$"
      ],
      "text/plain": [
       "h/(h**2 + 4)**1.5"
      ]
     },
     "execution_count": 17,
     "metadata": {},
     "output_type": "execute_result"
    }
   ],
   "source": [
    "def I(h):\n",
    "    return h/((h**2+2**2)**(3/2))\n",
    "    \n",
    "sym.var('h',real=True)\n",
    "I(h)\n"
   ]
  },
  {
   "cell_type": "code",
   "execution_count": 19,
   "metadata": {},
   "outputs": [
    {
     "data": {
      "text/plain": [
       "[-1.41421356237310, 1.41421356237310]"
      ]
     },
     "execution_count": 19,
     "metadata": {},
     "output_type": "execute_result"
    }
   ],
   "source": [
    "dI=sym.diff(I(h),h)\n",
    "c=sym.solve(dI,h)\n",
    "c"
   ]
  },
  {
   "cell_type": "code",
   "execution_count": 20,
   "metadata": {},
   "outputs": [
    {
     "data": {
      "image/png": "[encoded data removed]",
      "text/plain": [
       "<Figure size 432x288 with 1 Axes>"
      ]
     },
     "metadata": {
      "needs_background": "light"
     },
     "output_type": "display_data"
    }
   ],
   "source": [
    "#Inum=sym.lambdify(h,I(h),'numpy')\n",
    "#ynum=Inum(xnum)\n",
    "xnum=np.linspace(0,3,100)\n",
    "ynum=I(xnum)    \n",
    "plt.plot(xnum,ynum)\n",
    "plt.plot(c[1],I(c[1]),'*r',ms=15)\n",
    "plt.grid()"
   ]
  },
  {
   "cell_type": "markdown",
   "metadata": {},
   "source": [
    "3. **Fuerza mínima**  Se diseña un componente para deslizar un bloque de acero con peso $W=10 N$ a través de una mesa y sobre una canaleta. Se opone al movimiento del bloque una fuerza de fricción proporcional a su peso aparente (sea $k=0.1$ la constante de proporcionalidad). Determinar la fuerza mínima $f$ necesaria para deslizar el bloque y encontrar el valor correspondiente de $\\theta$.\n",
    "\n",
    "Ayudín: $f\\cos \\theta$ es la fuerza de dirección del movimiento, y $f\\sin\\theta$ es la fuerza que tiende a levantar el bloque. De tal modo, el peso aparente del bloque es $W-f\\sin\\theta$."
   ]
  },
  {
   "cell_type": "code",
   "execution_count": 21,
   "metadata": {},
   "outputs": [
    {
     "data": {
      "image/png": "[encoded data removed]",
      "text/plain": [
       "<Figure size 432x288 with 1 Axes>"
      ]
     },
     "metadata": {
      "needs_background": "light"
     },
     "output_type": "display_data"
    }
   ],
   "source": [
    "W = patches.Rectangle((0, 2),0.8, 0.5, fill=False,color='k')\n",
    "a = patches.Arrow(0.8,2.25,1,0.5,width=0.1,color='k')\n",
    "arc = patches.Arc((0.8,2.25),1,1,theta2=30)\n",
    "ax = plt.gca()\n",
    "ax.add_artist(W)\n",
    "ax.add_artist(a)\n",
    "ax.add_artist(arc)\n",
    "\n",
    "plt.text(0.2,2.6,'$W$')\n",
    "plt.text(1.8,3,'$f$')\n",
    "plt.text(1.35,2.305,r'$\\theta$')\n",
    "\n",
    "plt.plot([1.8,2.8],[2.75,3.25],'k')\n",
    "plt.plot([0.8,2],[2.25,2.25],'k--')\n",
    "plt.plot([-1,-1,2,2],[0,2,2,0],'k')\n",
    "\n",
    "\n",
    "plt.axis('equal')\n",
    "plt.ylim([0,4])\n",
    "plt.axis('off')\n",
    "plt.show()"
   ]
  },
  {
   "cell_type": "markdown",
   "metadata": {},
   "source": [
    "**Solución**\n",
    "Establecemos la sumatoria de fuerzas a cero, la componente horizontal de la \n",
    "fuerza más la fricción \n",
    "$$\n",
    "f\\cos\\theta-k(W-f\\mathrm{sin}\\theta))=0\n",
    "$$\n",
    "Entonces, se desa minimizar $f$ eb función de $theta$\n",
    "$$\n",
    "\\min_{theta}\\frac{kW}{\\cos\\theta+k\\sin\\theta},\n",
    "$$\n",
    "para \n"
   ]
  },
  {
   "cell_type": "code",
   "execution_count": 23,
   "metadata": {},
   "outputs": [
    {
     "data": {
      "text/latex": [
       "$\\displaystyle \\frac{1.0}{0.1 \\sin{\\left(\\theta \\right)} + \\cos{\\left(\\theta \\right)}}$"
      ],
      "text/plain": [
       "1.0/(0.1*sin(theta) + cos(theta))"
      ]
     },
     "execution_count": 23,
     "metadata": {},
     "output_type": "execute_result"
    }
   ],
   "source": [
    "sym.var('theta')\n",
    "k=0.1\n",
    "W=10\n",
    "f=k*W/(sym.cos(theta)+k*sym.sin(theta))\n",
    "f"
   ]
  },
  {
   "cell_type": "code",
   "execution_count": 25,
   "metadata": {},
   "outputs": [
    {
     "data": {
      "text/plain": [
       "[0.0996686524911620]"
      ]
     },
     "execution_count": 25,
     "metadata": {},
     "output_type": "execute_result"
    }
   ],
   "source": [
    "df=sym.diff(f,theta)\n",
    "c=sym.solve(df,theta)\n",
    "c"
   ]
  },
  {
   "cell_type": "code",
   "execution_count": 28,
   "metadata": {},
   "outputs": [
    {
     "ename": "SyntaxError",
     "evalue": "invalid syntax (2552964168.py, line 6)",
     "output_type": "error",
     "traceback": [
      "\u001b[1;36m  Input \u001b[1;32mIn [28]\u001b[1;36m\u001b[0m\n\u001b[1;33m    plt.plot(c[0]f[0],'*r',ms=15)\u001b[0m\n\u001b[1;37m                 ^\u001b[0m\n\u001b[1;31mSyntaxError\u001b[0m\u001b[1;31m:\u001b[0m invalid syntax\n"
     ]
    }
   ],
   "source": [
    "th=np.linspace(0,np.pi/2,100)\n",
    "fn=sym.lambdify(theta,f,'numpy')\n",
    "y=fn(th)\n",
    "\n",
    "plt.plot(th,y)\n",
    "plt.plot(c[0],f[0],'*r',ms=15)\n",
    "plt.grid()\n"
   ]
  },
  {
   "cell_type": "markdown",
   "metadata": {
    "colab_type": "text",
    "id": "e0CgigELTd6-"
   },
   "source": [
    "### En varias variables...\n",
    "\n",
    "El procedimiento es análogo. \n",
    "\n",
    "Si una función $f:\\mathbb{R}^n\\to\\mathbb{R}$ alcanza un máximo o mínimo local en $\\boldsymbol{x}=\\boldsymbol{c}\\in\\mathbb{R}^n$, y $f$ es diferenciable en el punto $\\boldsymbol{x}=\\boldsymbol{c}$, entonces $\\left.\\frac{\\partial f}{\\partial \\boldsymbol{x}}\\right|_{\\boldsymbol{x}=\\boldsymbol{c}}=\\boldsymbol{0}$ (todas las derivadas parciales en el punto $\\boldsymbol{x}=\\boldsymbol{c}$ son cero).\n",
    "\n",
    "**Criterio de la segunda derivada:** para ver si es máximo o mínimo, se toma la segunda derivada (matriz Hessiana) y se verifica definición negativa o positiva, respectivamente.\n",
    "\n",
    "Si se restringe a cierta región, hay ciertas técnicas. La más general, pero también la más compleja es la de **multiplicadores de Lagrange**."
   ]
  },
  {
   "cell_type": "markdown",
   "metadata": {
    "colab_type": "text",
    "id": "Gm1hrxEXTd7B"
   },
   "source": [
    "**Ejemplo:** Determinar los valores extremo de $z(x,y)= (x-3)^2 + (y+5)^2$ usando el criterio de la segunda derivada y corroborarlo con la gráfica."
   ]
  },
  {
   "cell_type": "code",
   "execution_count": 2,
   "metadata": {},
   "outputs": [],
   "source": [
    "import numpy as np\n",
    "import matplotlib.pyplot as plt\n",
    "import sympy as sym"
   ]
  },
  {
   "cell_type": "code",
   "execution_count": 3,
   "metadata": {},
   "outputs": [
    {
     "data": {
      "text/latex": [
       "$\\displaystyle \\left(x - 3\\right)^{2} + \\left(y + 5\\right)^{2}$"
      ],
      "text/plain": [
       "(x - 3)**2 + (y + 5)**2"
      ]
     },
     "execution_count": 3,
     "metadata": {},
     "output_type": "execute_result"
    }
   ],
   "source": [
    "sym.var('x')\n",
    "sym.var('y')\n",
    "def z(x,y):\n",
    "    return (x-3)**2+(y+5)**2\n",
    "z(x,y)"
   ]
  },
  {
   "cell_type": "code",
   "execution_count": 4,
   "metadata": {},
   "outputs": [
    {
     "data": {
      "text/latex": [
       "$\\displaystyle 2 x - 6$"
      ],
      "text/plain": [
       "2*x - 6"
      ]
     },
     "execution_count": 4,
     "metadata": {},
     "output_type": "execute_result"
    }
   ],
   "source": [
    "zdx=sym.diff(z(x,y),x)\n",
    "zdy=sym.diff(z(x,y),y)\n",
    "zdx"
   ]
  },
  {
   "cell_type": "code",
   "execution_count": 5,
   "metadata": {},
   "outputs": [
    {
     "data": {
      "text/latex": [
       "$\\displaystyle 2 y + 10$"
      ],
      "text/plain": [
       "2*y + 10"
      ]
     },
     "execution_count": 5,
     "metadata": {},
     "output_type": "execute_result"
    }
   ],
   "source": [
    "zdy"
   ]
  },
  {
   "cell_type": "code",
   "execution_count": 6,
   "metadata": {},
   "outputs": [
    {
     "data": {
      "text/plain": [
       "{x: 3, y: -5}"
      ]
     },
     "execution_count": 6,
     "metadata": {},
     "output_type": "execute_result"
    }
   ],
   "source": [
    "c=sym.solve([zdx,zdy],[x,y])   #Solución del sistema de ecuaciones\n",
    "c\n"
   ]
  },
  {
   "cell_type": "code",
   "execution_count": 7,
   "metadata": {},
   "outputs": [
    {
     "data": {
      "text/latex": [
       "$\\displaystyle 3$"
      ],
      "text/plain": [
       "3"
      ]
     },
     "execution_count": 7,
     "metadata": {},
     "output_type": "execute_result"
    }
   ],
   "source": [
    "c[x]"
   ]
  },
  {
   "cell_type": "code",
   "execution_count": 8,
   "metadata": {},
   "outputs": [
    {
     "data": {
      "text/latex": [
       "$\\displaystyle -5$"
      ],
      "text/plain": [
       "-5"
      ]
     },
     "execution_count": 8,
     "metadata": {},
     "output_type": "execute_result"
    }
   ],
   "source": [
    "c[y]\n"
   ]
  },
  {
   "cell_type": "code",
   "execution_count": 14,
   "metadata": {},
   "outputs": [
    {
     "data": {
      "text/latex": [
       "$\\displaystyle 0$"
      ],
      "text/plain": [
       "0"
      ]
     },
     "execution_count": 14,
     "metadata": {},
     "output_type": "execute_result"
    }
   ],
   "source": [
    "#Para encontrar si es maximo o minimo aplicamos el criterio de la segunda derivada o graficar\n",
    "#Derivamos 'zdx'\n",
    "zddx=sym.diff(zdx,x)\n",
    "zdxy=sym.diff(zdx,y)  #Esta debe de ser 0 porque derivamos respecto a solamente x\n",
    "zdxy"
   ]
  },
  {
   "cell_type": "code",
   "execution_count": 15,
   "metadata": {},
   "outputs": [
    {
     "data": {
      "text/plain": [
       "(2, 2)"
      ]
     },
     "execution_count": 15,
     "metadata": {},
     "output_type": "execute_result"
    }
   ],
   "source": [
    "#derivamos 'zdy'\n",
    "zddy=sym.diff(zdy,y)\n",
    "zddx,zddy"
   ]
  },
  {
   "cell_type": "code",
   "execution_count": 28,
   "metadata": {},
   "outputs": [
    {
     "data": {
      "text/latex": [
       "$\\displaystyle \\left[\\begin{matrix}2 & 0\\\\0 & 2\\end{matrix}\\right]$"
      ],
      "text/plain": [
       "Matrix([\n",
       "[2, 0],\n",
       "[0, 2]])"
      ]
     },
     "execution_count": 28,
     "metadata": {},
     "output_type": "execute_result"
    }
   ],
   "source": [
    "sym.Matrix([[zddx,zdxy],[zdxy,zddy]])"
   ]
  },
  {
   "cell_type": "code",
   "execution_count": 29,
   "metadata": {},
   "outputs": [
    {
     "data": {
      "text/latex": [
       "$\\displaystyle 4$"
      ],
      "text/plain": [
       "4"
      ]
     },
     "execution_count": 29,
     "metadata": {},
     "output_type": "execute_result"
    }
   ],
   "source": [
    "sym.det(_)  #guion bajo para mostrar el ultimo elemento mostrado"
   ]
  },
  {
   "cell_type": "markdown",
   "metadata": {},
   "source": [
    "Entonces tenemos un mínimo en el punto $c=(3,-5)$"
   ]
  },
  {
   "cell_type": "code",
   "execution_count": 35,
   "metadata": {},
   "outputs": [
    {
     "data": {
      "text/plain": [
       "<mpl_toolkits.mplot3d.art3d.Line3DCollection at 0x2221cb6e3a0>"
      ]
     },
     "execution_count": 35,
     "metadata": {},
     "output_type": "execute_result"
    },
    {
     "data": {
      "image/png": "[encoded data removed]",
      "text/plain": [
       "<Figure size 432x288 with 1 Axes>"
      ]
     },
     "metadata": {
      "needs_background": "light"
     },
     "output_type": "display_data"
    }
   ],
   "source": [
    "#Grafricamos\n",
    "from mpl_toolkits.mplot3d import Axes3D\n",
    "\n",
    "fig=plt.figure()\n",
    "ax=fig.add_subplot(111,projection='3d')  #111 --> # de columnas, # de renglones,, Posicion de la grafica\n",
    "\n",
    "xn=np.linspace(0,6,100)\n",
    "yn=np.linspace(-8,-2,100)\n",
    "X,Y=np.meshgrid(xn,yn)\n",
    "Z=z(X,Y)\n",
    "\n",
    "#ax.plot_surface(X,Y,Z)\n",
    "ax.plot_wireframe(X,Y,Z)"
   ]
  },
  {
   "cell_type": "code",
   "execution_count": null,
   "metadata": {},
   "outputs": [],
   "source": []
  }
 ],
 "metadata": {
  "colab": {
   "collapsed_sections": [],
   "name": "Funciones escalares.ipynb",
   "provenance": []
  },
  "kernelspec": {
   "display_name": "Python 3 (ipykernel)",
   "language": "python",
   "name": "python3"
  },
  "language_info": {
   "codemirror_mode": {
    "name": "ipython",
    "version": 3
   },
   "file_extension": ".py",
   "mimetype": "text/x-python",
   "name": "python",
   "nbconvert_exporter": "python",
   "pygments_lexer": "ipython3",
   "version": "3.9.12"
  }
 },
 "nbformat": 4,
 "nbformat_minor": 1
}
